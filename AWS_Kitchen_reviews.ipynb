{
  "nbformat": 4,
  "nbformat_minor": 0,
  "metadata": {
    "colab": {
      "name": "AWS-Kitchen-reviews.ipynb",
      "provenance": [],
      "collapsed_sections": []
    },
    "kernelspec": {
      "name": "python3",
      "display_name": "Python 3"
    }
  },
  "cells": [
    {
      "cell_type": "code",
      "metadata": {
        "id": "T9-z0nsHH2B3",
        "colab_type": "code",
        "colab": {
          "base_uri": "https://localhost:8080/",
          "height": 527
        },
        "outputId": "fda4606e-ef2c-45d5-b652-4bbd90a6aa1b"
      },
      "source": [
        "import os\n",
        "# Find the latest version of spark 3.0  from http://www-us.apache.org/dist/spark/ and enter as the spark version\n",
        "# For example:\n",
        "# spark_version = 'spark-3.0.0'\n",
        "spark_version = 'spark-3.0.1'\n",
        "os.environ['SPARK_VERSION']=spark_version\n",
        "\n",
        "# Install Spark and Java\n",
        "!apt-get update\n",
        "!apt-get install openjdk-11-jdk-headless -qq > /dev/null\n",
        "!wget -q http://www-us.apache.org/dist/spark/$SPARK_VERSION/$SPARK_VERSION-bin-hadoop2.7.tgz\n",
        "!tar xf $SPARK_VERSION-bin-hadoop2.7.tgz\n",
        "!pip install -q findspark\n",
        "\n",
        "# Set Environment Variables\n",
        "import os\n",
        "os.environ[\"JAVA_HOME\"] = \"/usr/lib/jvm/java-11-openjdk-amd64\"\n",
        "os.environ[\"SPARK_HOME\"] = f\"/content/{spark_version}-bin-hadoop2.7\"\n",
        "\n",
        "# Start a SparkSession\n",
        "import findspark\n",
        "findspark.init()\n",
        "\n",
        "!wget https://jdbc.postgresql.org/download/postgresql-42.2.9.jar\n",
        "\n",
        "# Start Spark session\n",
        "from pyspark.sql import SparkSession\n",
        "spark = SparkSession.builder.appName(\"ETL\").config(\"spark.driver.extraClassPath\",\"/content/postgresql-42.2.9.jar\").getOrCreate()"
      ],
      "execution_count": 1,
      "outputs": [
        {
          "output_type": "stream",
          "text": [
            "\r0% [Working]\r            \rIgn:1 https://developer.download.nvidia.com/compute/cuda/repos/ubuntu1804/x86_64  InRelease\n",
            "\r0% [Connecting to archive.ubuntu.com (91.189.88.152)] [Connecting to security.u\r                                                                               \rGet:2 https://cloud.r-project.org/bin/linux/ubuntu bionic-cran35/ InRelease [3,626 B]\n",
            "\r0% [Connecting to archive.ubuntu.com (91.189.88.152)] [Connecting to security.u\r0% [Connecting to archive.ubuntu.com (91.189.88.152)] [Connecting to security.u\r0% [2 InRelease gpgv 3,626 B] [Connecting to archive.ubuntu.com (91.189.88.152)\r                                                                               \rIgn:3 https://developer.download.nvidia.com/compute/machine-learning/repos/ubuntu1804/x86_64  InRelease\n",
            "\r0% [2 InRelease gpgv 3,626 B] [Connecting to archive.ubuntu.com (91.189.88.152)\r                                                                               \rHit:4 https://developer.download.nvidia.com/compute/cuda/repos/ubuntu1804/x86_64  Release\n",
            "Hit:5 https://developer.download.nvidia.com/compute/machine-learning/repos/ubuntu1804/x86_64  Release\n",
            "Hit:6 http://ppa.launchpad.net/graphics-drivers/ppa/ubuntu bionic InRelease\n",
            "Hit:7 http://archive.ubuntu.com/ubuntu bionic InRelease\n",
            "Get:8 http://security.ubuntu.com/ubuntu bionic-security InRelease [88.7 kB]\n",
            "Get:9 http://archive.ubuntu.com/ubuntu bionic-updates InRelease [88.7 kB]\n",
            "Get:11 http://ppa.launchpad.net/marutter/c2d4u3.5/ubuntu bionic InRelease [15.4 kB]\n",
            "Get:13 http://archive.ubuntu.com/ubuntu bionic-backports InRelease [74.6 kB]\n",
            "Get:14 http://security.ubuntu.com/ubuntu bionic-security/universe amd64 Packages [903 kB]\n",
            "Get:15 http://security.ubuntu.com/ubuntu bionic-security/main amd64 Packages [1,094 kB]\n",
            "Get:16 http://ppa.launchpad.net/marutter/c2d4u3.5/ubuntu bionic/main Sources [1,876 kB]\n",
            "Get:17 http://archive.ubuntu.com/ubuntu bionic-updates/main amd64 Packages [1,385 kB]\n",
            "Get:18 http://archive.ubuntu.com/ubuntu bionic-updates/universe amd64 Packages [1,430 kB]\n",
            "Get:19 http://ppa.launchpad.net/marutter/c2d4u3.5/ubuntu bionic/main amd64 Packages [906 kB]\n",
            "Fetched 7,866 kB in 4s (2,041 kB/s)\n",
            "Reading package lists... Done\n",
            "--2020-09-20 06:03:29--  https://jdbc.postgresql.org/download/postgresql-42.2.9.jar\n",
            "Resolving jdbc.postgresql.org (jdbc.postgresql.org)... 72.32.157.228, 2001:4800:3e1:1::228\n",
            "Connecting to jdbc.postgresql.org (jdbc.postgresql.org)|72.32.157.228|:443... connected.\n",
            "HTTP request sent, awaiting response... 200 OK\n",
            "Length: 914037 (893K) [application/java-archive]\n",
            "Saving to: ‘postgresql-42.2.9.jar’\n",
            "\n",
            "postgresql-42.2.9.j 100%[===================>] 892.61K  3.64MB/s    in 0.2s    \n",
            "\n",
            "2020-09-20 06:03:30 (3.64 MB/s) - ‘postgresql-42.2.9.jar’ saved [914037/914037]\n",
            "\n"
          ],
          "name": "stdout"
        }
      ]
    },
    {
      "cell_type": "code",
      "metadata": {
        "id": "lWGDjQeEIJzU",
        "colab_type": "code",
        "colab": {}
      },
      "source": [
        "from pyspark import SparkFiles\n",
        "# Load in user_data.csv from S3 into a DataFrame -  no need to \"unzip\" the gz\n",
        "url = \"https://s3.amazonaws.com/amazon-reviews-pds/tsv/amazon_reviews_us_Kitchen_v1_00.tsv.gz\"\n",
        "spark.sparkContext.addFile(url)\n",
        "\n"
      ],
      "execution_count": 2,
      "outputs": []
    },
    {
      "cell_type": "code",
      "metadata": {
        "id": "TmKQPWbNeAWP",
        "colab_type": "code",
        "colab": {
          "base_uri": "https://localhost:8080/",
          "height": 289
        },
        "outputId": "0a0ab18b-df2c-45df-e384-53d7016b931d"
      },
      "source": [
        "#Load tab-separated file to DataFrame\n",
        "kitchen_df = spark.read.option('header', 'true').csv(SparkFiles.get(\"amazon_reviews_us_Kitchen_v1_00.tsv.gz\"), inferSchema=True, sep=\"\\t\")\n",
        "kitchen_df.show(10)"
      ],
      "execution_count": 3,
      "outputs": [
        {
          "output_type": "stream",
          "text": [
            "+-----------+-----------+--------------+----------+--------------+--------------------+----------------+-----------+-------------+-----------+----+-----------------+--------------------+--------------------+-----------+\n",
            "|marketplace|customer_id|     review_id|product_id|product_parent|       product_title|product_category|star_rating|helpful_votes|total_votes|vine|verified_purchase|     review_headline|         review_body|review_date|\n",
            "+-----------+-----------+--------------+----------+--------------+--------------------+----------------+-----------+-------------+-----------+----+-----------------+--------------------+--------------------+-----------+\n",
            "|         US|   37000337|R3DT59XH7HXR9K|B00303FI0G|     529320574|Arthur Court Pape...|         Kitchen|          5|            0|          0|   N|                Y|Beautiful. Looks ...|Beautiful.  Looks...| 2015-08-31|\n",
            "|         US|   15272914|R1LFS11BNASSU8|B00JCZKZN6|     274237558|Olde Thompson Bav...|         Kitchen|          5|            0|          1|   N|                Y| Awesome & Self-ness|I personally have...| 2015-08-31|\n",
            "|         US|   36137863|R296RT05AG0AF6|B00JLIKA5C|     544675303|Progressive Inter...|         Kitchen|          5|            0|          0|   N|                Y|Fabulous and wort...|Fabulous and wort...| 2015-08-31|\n",
            "|         US|   43311049|R3V37XDZ7ZCI3L|B000GBNB8G|     491599489|Zyliss Jumbo Garl...|         Kitchen|          5|            0|          1|   N|                Y|          Five Stars|A must if you lov...| 2015-08-31|\n",
            "|         US|   13763148|R14GU232NQFYX2|B00VJ5KX9S|     353790155|1 X Premier Pizza...|         Kitchen|          5|            0|          0|   N|                Y|     Better than sex|Worth every penny...| 2015-08-31|\n",
            "|         US|   19009420| RZQH4V7L2O1PL|B00HYB5YY0|     432241873|       CHEF Aluminum|         Kitchen|          1|            1|          1|   N|                Y|Does not work on ...|The description s...| 2015-08-31|\n",
            "|         US|   40599388|R1F8JMOSPJ3KO7|B000HEBAV2|     584680984|Presto Dual Profr...|         Kitchen|          5|            0|          0|   N|                Y|Awesome! First fr...|Awesome! First fr...| 2015-08-31|\n",
            "|         US|   22719359|R1ZISGY2BWW4Z5|B0012DS4GG|     772637306|Rubbermaid Produc...|         Kitchen|          5|            0|          0|   N|                Y|          Five Stars|Very good item. Q...| 2015-08-31|\n",
            "|         US|   47478640|R17PW4I3AE5WZW|B00FLQ4EE6|     755416578|Cuisinart 12-Piec...|         Kitchen|          5|            0|          0|   N|                Y|          Five Stars|sharp and look great| 2015-08-31|\n",
            "|         US|   34195504|R3D93G1KTP6A8P|B00DBS9OTG|     648762742|Kegco 6\" Stainles...|         Kitchen|          3|            0|          0|   N|                Y|         Three Stars|Should have come ...| 2015-08-31|\n",
            "+-----------+-----------+--------------+----------+--------------+--------------------+----------------+-----------+-------------+-----------+----+-----------------+--------------------+--------------------+-----------+\n",
            "only showing top 10 rows\n",
            "\n"
          ],
          "name": "stdout"
        }
      ]
    },
    {
      "cell_type": "code",
      "metadata": {
        "id": "ZxmxW0gcE-L4",
        "colab_type": "code",
        "colab": {
          "base_uri": "https://localhost:8080/",
          "height": 34
        },
        "outputId": "5cc8a560-7626-4bac-f258-8c40afa8d86d"
      },
      "source": [
        "kitchen_df.count()\n"
      ],
      "execution_count": 12,
      "outputs": [
        {
          "output_type": "execute_result",
          "data": {
            "text/plain": [
              "4880466"
            ]
          },
          "metadata": {
            "tags": []
          },
          "execution_count": 12
        }
      ]
    },
    {
      "cell_type": "code",
      "metadata": {
        "id": "Ea6prIgSJDMx",
        "colab_type": "code",
        "colab": {
          "base_uri": "https://localhost:8080/",
          "height": 459
        },
        "outputId": "71a2f49a-e871-4bb8-c1b2-c149e2d5dd80"
      },
      "source": [
        "from pyspark.sql import Row\n",
        "\n",
        "clean_kitchen_df = kitchen_df.dropDuplicates()\n",
        "\n",
        "clean_kitchen_df.show()\n",
        "\n",
        "\n"
      ],
      "execution_count": 4,
      "outputs": [
        {
          "output_type": "stream",
          "text": [
            "+-----------+-----------+--------------+----------+--------------+--------------------+----------------+-----------+-------------+-----------+----+-----------------+--------------------+--------------------+-----------+\n",
            "|marketplace|customer_id|     review_id|product_id|product_parent|       product_title|product_category|star_rating|helpful_votes|total_votes|vine|verified_purchase|     review_headline|         review_body|review_date|\n",
            "+-----------+-----------+--------------+----------+--------------+--------------------+----------------+-----------+-------------+-----------+----+-----------------+--------------------+--------------------+-----------+\n",
            "|         US|   24197845|R1002B10PD9ZFM|B000LTOCSG|     630072149|Replacement Filte...|         Kitchen|          5|            0|          0|   N|                Y|          Very Nice!|Very inexpensive,...| 2009-07-20|\n",
            "|         US|   17990743|R1007DQP1BG5WJ|B007M2OHEY|     362955205|Fred & Friends E....|         Kitchen|          5|            0|          0|   N|                Y|          Five Stars|      Quite the gag!| 2014-09-12|\n",
            "|         US|   33816354|R100AIJ0ZFN8CZ|B0001ZYYQU|     331822491|KitchenAid Artisa...|         Kitchen|          4|            3|          3|   N|                N|Great Mixer, Reco...|I was looking at ...| 2007-03-09|\n",
            "|         US|   13231777|R100C48B994FWD|B00IK59T1S|     744019201|PUR 7 Cup Pitcher...|         Kitchen|          5|            0|          0|   N|                Y|The water tastes ...|The water tastes ...| 2014-11-26|\n",
            "|         US|   53006884|R100E300CKVFYD|B00833DQCU|     298219798|Prepworks from Pr...|         Kitchen|          1|            3|          3|   N|                Y|Chops nuts too small|It doesn't chop- ...| 2013-12-08|\n",
            "|         US|   14608024|R100GBKBV767AA|B0000CDVD2|     184834728|Oxo Good Grips Co...|         Kitchen|          5|            0|          0|   N|                Y|          Cool scoop|Easy to use, clea...| 2014-04-30|\n",
            "|         US|   46627762|R100I1XICZFNHD|B0014NKJTO|      21858491|9 Inch Vinyl Sede...|         Kitchen|          1|            1|          1|   N|                Y|Not worth the price!|I expected more t...| 2014-03-04|\n",
            "|         US|   42223395|R100KXBN0DJ74A|B000P9GWFS|     826643513|KitchenAid Profes...|         Kitchen|          1|            4|          6|   N|                N|          Junk Mixer|I would not buy t...| 2012-07-04|\n",
            "|         US|   29497970|R100VC4OCYFFWM|B0016KXAD2|     641397529|          Party Hats|         Kitchen|          5|            0|          0|   N|                Y|          Five Stars|           Love them| 2015-08-26|\n",
            "|         US|   13368891|R100YFR4KUB3GC|B003LYVXJ4|     510828298|Aluminum Wire Sof...|         Kitchen|          1|            0|          1|   N|                N|Sunbeam one like ...|This looks exactl...| 2013-12-08|\n",
            "|         US|   38569985|R1011FF2WI90BO|B000A7W4YS|     719164168|Braun Tassimo TA ...|         Kitchen|          5|            9|         10|   N|                N|  easy and delicious|I love my Tassimo...| 2005-12-15|\n",
            "|         US|   19893443|R101KSJLZDFCG2|B0085MQPSG|     839082593|BigMouth Inc The ...|         Kitchen|          4|            0|          1|   N|                Y|               cute!|got this for a ga...| 2014-07-13|\n",
            "|         US|   37840382|R101VMZSKC6RM7|B000H8E03I|     919088125|Graviti Electroni...|         Kitchen|          3|            8|          8|   N|                N|Great Design, So-...|Reading about the...| 2006-12-23|\n",
            "|         US|   24877153|R101W7KWZ60CSV|B003F6GKZU|     403699166|Chef'n PepperBall...|         Kitchen|          5|            1|          1|   N|                Y| Good Pepper Grinder|works great for m...| 2015-07-14|\n",
            "|         US|   41504395|R101XEDA8YNN9Y|B000KESQ1G|     713995264|Ateco Professiona...|         Kitchen|          5|            0|          0|   N|                Y|          Five Stars|  Just as described!| 2014-07-27|\n",
            "|         US|   48944176|R102E0FGPYYEG7|B00004S7V7|     752052858|Microplane 40001 ...|         Kitchen|          5|            0|          0|   N|                Y|Very nice Micropl...|Nice little tool ...| 2014-09-01|\n",
            "|         US|   17459023|R102ELXWY70O2E|B004QGXNT4|     524203933|Kitchen Elements ...|         Kitchen|          4|            0|          0|   N|                Y|     Really flexible|I was worried tha...| 2012-12-24|\n",
            "|         US|   18444796|R102G47PI11DAZ|B0007SXIMM|     886205969|KitchenAid KFP740...|         Kitchen|          5|            1|          1|   N|                Y|Perfect kitchen a...|It is very simple...| 2011-03-17|\n",
            "|         US|   44731297|R1047FS7ZQLQ18|B0006MEI5A|     123229238|Oxi Clean Stain R...|         Kitchen|          5|            0|          0|   N|                N|             love it|This is miracle c...| 2007-02-14|\n",
            "|         US|   50200530|R104DALNSFY9UD|B0000DE7JR|     880211013|Stainless Steel R...|         Kitchen|          5|            0|          0|   N|                Y|          Five Stars|Exactly what I wa...| 2015-07-10|\n",
            "+-----------+-----------+--------------+----------+--------------+--------------------+----------------+-----------+-------------+-----------+----+-----------------+--------------------+--------------------+-----------+\n",
            "only showing top 20 rows\n",
            "\n"
          ],
          "name": "stdout"
        }
      ]
    },
    {
      "cell_type": "code",
      "metadata": {
        "id": "oKBm_2aUMlut",
        "colab_type": "code",
        "colab": {
          "base_uri": "https://localhost:8080/",
          "height": 34
        },
        "outputId": "daff4ca8-5942-40dc-9c1f-985e385cb687"
      },
      "source": [
        "clean_kitchen_df.count()\n"
      ],
      "execution_count": 18,
      "outputs": [
        {
          "output_type": "execute_result",
          "data": {
            "text/plain": [
              "4880466"
            ]
          },
          "metadata": {
            "tags": []
          },
          "execution_count": 18
        }
      ]
    },
    {
      "cell_type": "code",
      "metadata": {
        "id": "W-HGHJsgGGBQ",
        "colab_type": "code",
        "colab": {}
      },
      "source": [
        "from pyspark.sql.functions import col\n",
        "from pyspark.sql.types import StringType,BooleanType,DateType"
      ],
      "execution_count": 5,
      "outputs": []
    },
    {
      "cell_type": "code",
      "metadata": {
        "id": "Pmsf1msgPW2t",
        "colab_type": "code",
        "colab": {
          "base_uri": "https://localhost:8080/",
          "height": 136
        },
        "outputId": "ab802629-8077-42c4-e588-7d6598ad1e3a"
      },
      "source": [
        "# Create dataframe to match \"review_id_table\" table\n",
        "user_review2_df = clean_kitchen_df.select([\"review_id\", \"customer_id\", \"product_id\", \"product_parent\",\"review_date\"])\n",
        "user_review2_df.printSchema()"
      ],
      "execution_count": 6,
      "outputs": [
        {
          "output_type": "stream",
          "text": [
            "root\n",
            " |-- review_id: string (nullable = true)\n",
            " |-- customer_id: integer (nullable = true)\n",
            " |-- product_id: string (nullable = true)\n",
            " |-- product_parent: integer (nullable = true)\n",
            " |-- review_date: string (nullable = true)\n",
            "\n"
          ],
          "name": "stdout"
        }
      ]
    },
    {
      "cell_type": "code",
      "metadata": {
        "id": "7fZyNBKWIB4f",
        "colab_type": "code",
        "colab": {
          "base_uri": "https://localhost:8080/",
          "height": 459
        },
        "outputId": "e7a2e615-c068-46bf-e829-2ea4ea360699"
      },
      "source": [
        "user_review_df = user_review2_df.withColumn(\"review_date\", col(\"review_date\").cast(DateType()))\n",
        "user_review_df.show()"
      ],
      "execution_count": 7,
      "outputs": [
        {
          "output_type": "stream",
          "text": [
            "+--------------+-----------+----------+--------------+-----------+\n",
            "|     review_id|customer_id|product_id|product_parent|review_date|\n",
            "+--------------+-----------+----------+--------------+-----------+\n",
            "|R1002B10PD9ZFM|   24197845|B000LTOCSG|     630072149| 2009-07-20|\n",
            "|R1007DQP1BG5WJ|   17990743|B007M2OHEY|     362955205| 2014-09-12|\n",
            "|R100AIJ0ZFN8CZ|   33816354|B0001ZYYQU|     331822491| 2007-03-09|\n",
            "|R100C48B994FWD|   13231777|B00IK59T1S|     744019201| 2014-11-26|\n",
            "|R100E300CKVFYD|   53006884|B00833DQCU|     298219798| 2013-12-08|\n",
            "|R100GBKBV767AA|   14608024|B0000CDVD2|     184834728| 2014-04-30|\n",
            "|R100I1XICZFNHD|   46627762|B0014NKJTO|      21858491| 2014-03-04|\n",
            "|R100KXBN0DJ74A|   42223395|B000P9GWFS|     826643513| 2012-07-04|\n",
            "|R100VC4OCYFFWM|   29497970|B0016KXAD2|     641397529| 2015-08-26|\n",
            "|R100YFR4KUB3GC|   13368891|B003LYVXJ4|     510828298| 2013-12-08|\n",
            "|R1011FF2WI90BO|   38569985|B000A7W4YS|     719164168| 2005-12-15|\n",
            "|R101KSJLZDFCG2|   19893443|B0085MQPSG|     839082593| 2014-07-13|\n",
            "|R101VMZSKC6RM7|   37840382|B000H8E03I|     919088125| 2006-12-23|\n",
            "|R101W7KWZ60CSV|   24877153|B003F6GKZU|     403699166| 2015-07-14|\n",
            "|R101XEDA8YNN9Y|   41504395|B000KESQ1G|     713995264| 2014-07-27|\n",
            "|R102E0FGPYYEG7|   48944176|B00004S7V7|     752052858| 2014-09-01|\n",
            "|R102ELXWY70O2E|   17459023|B004QGXNT4|     524203933| 2012-12-24|\n",
            "|R102G47PI11DAZ|   18444796|B0007SXIMM|     886205969| 2011-03-17|\n",
            "|R1047FS7ZQLQ18|   44731297|B0006MEI5A|     123229238| 2007-02-14|\n",
            "|R104DALNSFY9UD|   50200530|B0000DE7JR|     880211013| 2015-07-10|\n",
            "+--------------+-----------+----------+--------------+-----------+\n",
            "only showing top 20 rows\n",
            "\n"
          ],
          "name": "stdout"
        }
      ]
    },
    {
      "cell_type": "code",
      "metadata": {
        "id": "zo364va4Lgnq",
        "colab_type": "code",
        "colab": {
          "base_uri": "https://localhost:8080/",
          "height": 136
        },
        "outputId": "809f7047-0faf-4b5a-a5ac-d1ae50b3ac52"
      },
      "source": [
        "user_review_df.printSchema()"
      ],
      "execution_count": 8,
      "outputs": [
        {
          "output_type": "stream",
          "text": [
            "root\n",
            " |-- review_id: string (nullable = true)\n",
            " |-- customer_id: integer (nullable = true)\n",
            " |-- product_id: string (nullable = true)\n",
            " |-- product_parent: integer (nullable = true)\n",
            " |-- review_date: date (nullable = true)\n",
            "\n"
          ],
          "name": "stdout"
        }
      ]
    },
    {
      "cell_type": "code",
      "metadata": {
        "id": "wRYtHeUPQDPT",
        "colab_type": "code",
        "colab": {}
      },
      "source": [
        "#Drop Duplicates of key column\n",
        "clean_review_df = user_review_df.dropDuplicates(([\"review_id\"]))\n"
      ],
      "execution_count": 9,
      "outputs": []
    },
    {
      "cell_type": "code",
      "metadata": {
        "id": "6J6KbOFCSt0V",
        "colab_type": "code",
        "colab": {
          "base_uri": "https://localhost:8080/",
          "height": 34
        },
        "outputId": "8fe842f3-a567-4fbb-9be2-8c47e57b2f80"
      },
      "source": [
        "clean_review_df.count()"
      ],
      "execution_count": 28,
      "outputs": [
        {
          "output_type": "execute_result",
          "data": {
            "text/plain": [
              "4880466"
            ]
          },
          "metadata": {
            "tags": []
          },
          "execution_count": 28
        }
      ]
    },
    {
      "cell_type": "code",
      "metadata": {
        "id": "hXnbXwWIWphq",
        "colab_type": "code",
        "colab": {
          "base_uri": "https://localhost:8080/",
          "height": 459
        },
        "outputId": "1b34c4f6-2c9e-4d36-ada8-e586cf4b0c67"
      },
      "source": [
        "# Create dataframe to match \"products\" table\n",
        "products_df = clean_kitchen_df.select([\"product_id\", \"product_title\"])\n",
        "products_df.show()"
      ],
      "execution_count": 10,
      "outputs": [
        {
          "output_type": "stream",
          "text": [
            "+----------+--------------------+\n",
            "|product_id|       product_title|\n",
            "+----------+--------------------+\n",
            "|B000LTOCSG|Replacement Filte...|\n",
            "|B007M2OHEY|Fred & Friends E....|\n",
            "|B0001ZYYQU|KitchenAid Artisa...|\n",
            "|B00IK59T1S|PUR 7 Cup Pitcher...|\n",
            "|B00833DQCU|Prepworks from Pr...|\n",
            "|B0000CDVD2|Oxo Good Grips Co...|\n",
            "|B0014NKJTO|9 Inch Vinyl Sede...|\n",
            "|B000P9GWFS|KitchenAid Profes...|\n",
            "|B0016KXAD2|          Party Hats|\n",
            "|B003LYVXJ4|Aluminum Wire Sof...|\n",
            "|B000A7W4YS|Braun Tassimo TA ...|\n",
            "|B0085MQPSG|BigMouth Inc The ...|\n",
            "|B000H8E03I|Graviti Electroni...|\n",
            "|B003F6GKZU|Chef'n PepperBall...|\n",
            "|B000KESQ1G|Ateco Professiona...|\n",
            "|B00004S7V7|Microplane 40001 ...|\n",
            "|B004QGXNT4|Kitchen Elements ...|\n",
            "|B0007SXIMM|KitchenAid KFP740...|\n",
            "|B0006MEI5A|Oxi Clean Stain R...|\n",
            "|B0000DE7JR|Stainless Steel R...|\n",
            "+----------+--------------------+\n",
            "only showing top 20 rows\n",
            "\n"
          ],
          "name": "stdout"
        }
      ]
    },
    {
      "cell_type": "code",
      "metadata": {
        "id": "k7BxOYuUXH4j",
        "colab_type": "code",
        "colab": {
          "base_uri": "https://localhost:8080/",
          "height": 34
        },
        "outputId": "a842ade6-be8b-4000-8b02-0a1e22c0a0de"
      },
      "source": [
        "products_df.count()"
      ],
      "execution_count": 30,
      "outputs": [
        {
          "output_type": "execute_result",
          "data": {
            "text/plain": [
              "4880466"
            ]
          },
          "metadata": {
            "tags": []
          },
          "execution_count": 30
        }
      ]
    },
    {
      "cell_type": "code",
      "metadata": {
        "id": "IijvZ7nLXTac",
        "colab_type": "code",
        "colab": {}
      },
      "source": [
        "#Drop Duplicates of key column\n",
        "clean_products_df = products_df.dropDuplicates(([\"product_id\"]))"
      ],
      "execution_count": 11,
      "outputs": []
    },
    {
      "cell_type": "code",
      "metadata": {
        "colab_type": "code",
        "id": "278XdlmgXfPv",
        "colab": {
          "base_uri": "https://localhost:8080/",
          "height": 34
        },
        "outputId": "cde3b10b-d75f-4bf5-bbfb-5cf14d282f5d"
      },
      "source": [
        "clean_products_df.count()"
      ],
      "execution_count": 32,
      "outputs": [
        {
          "output_type": "execute_result",
          "data": {
            "text/plain": [
              "433478"
            ]
          },
          "metadata": {
            "tags": []
          },
          "execution_count": 32
        }
      ]
    },
    {
      "cell_type": "code",
      "metadata": {
        "id": "Ugp3wKC0NwR8",
        "colab_type": "code",
        "colab": {
          "base_uri": "https://localhost:8080/",
          "height": 85
        },
        "outputId": "2013c2ce-604e-4b00-b935-38f796d362bb"
      },
      "source": [
        "clean_products_df.printSchema()"
      ],
      "execution_count": 12,
      "outputs": [
        {
          "output_type": "stream",
          "text": [
            "root\n",
            " |-- product_id: string (nullable = true)\n",
            " |-- product_title: string (nullable = true)\n",
            "\n"
          ],
          "name": "stdout"
        }
      ]
    },
    {
      "cell_type": "code",
      "metadata": {
        "id": "M6kxuYDJmDWF",
        "colab_type": "code",
        "colab": {}
      },
      "source": [
        "import pyspark\n",
        "from pyspark.sql import SparkSession\n",
        "from pyspark.sql.functions import count"
      ],
      "execution_count": 14,
      "outputs": []
    },
    {
      "cell_type": "code",
      "metadata": {
        "id": "rH28iuzaZOaK",
        "colab_type": "code",
        "colab": {}
      },
      "source": [
        "# Create dataframe to match \"customers\" table\n",
        "#GroupBy on key column\n",
        "customers_df = clean_kitchen_df.groupBy(\"customer_id\").agg(count(\"customer_id\").alias(\"customer_count\"))\n"
      ],
      "execution_count": 15,
      "outputs": []
    },
    {
      "cell_type": "code",
      "metadata": {
        "id": "gjPAk3cOmNRd",
        "colab_type": "code",
        "colab": {
          "base_uri": "https://localhost:8080/",
          "height": 459
        },
        "outputId": "bd7434ce-a0a9-436a-d809-d38a81d61f52"
      },
      "source": [
        "customers_df.show()\n"
      ],
      "execution_count": 42,
      "outputs": [
        {
          "output_type": "stream",
          "text": [
            "+-----------+--------------+\n",
            "|customer_id|customer_count|\n",
            "+-----------+--------------+\n",
            "|   16308995|             2|\n",
            "|    4709446|             1|\n",
            "|   31546122|             2|\n",
            "|   25866981|             7|\n",
            "|   11537699|             4|\n",
            "|   50481713|             2|\n",
            "|   14863908|             2|\n",
            "|   52964170|             1|\n",
            "|   51863594|             1|\n",
            "|   42176175|             5|\n",
            "|   39258095|             1|\n",
            "|   52456816|             5|\n",
            "|   23141101|             3|\n",
            "|   40302623|             2|\n",
            "|   18614361|             1|\n",
            "|   25748567|             2|\n",
            "|   15185969|             9|\n",
            "|   30414919|             8|\n",
            "|   37589671|             1|\n",
            "|   17018430|             1|\n",
            "+-----------+--------------+\n",
            "only showing top 20 rows\n",
            "\n"
          ],
          "name": "stdout"
        }
      ]
    },
    {
      "cell_type": "code",
      "metadata": {
        "id": "sKmDYMXKmmkp",
        "colab_type": "code",
        "colab": {
          "base_uri": "https://localhost:8080/",
          "height": 34
        },
        "outputId": "d94b162f-caff-4e51-9851-54eb19b436b2"
      },
      "source": [
        "customers_df.count()\n"
      ],
      "execution_count": 43,
      "outputs": [
        {
          "output_type": "execute_result",
          "data": {
            "text/plain": [
              "2830483"
            ]
          },
          "metadata": {
            "tags": []
          },
          "execution_count": 43
        }
      ]
    },
    {
      "cell_type": "code",
      "metadata": {
        "colab_type": "code",
        "id": "PkdSJd0ToV9S",
        "colab": {
          "base_uri": "https://localhost:8080/",
          "height": 459
        },
        "outputId": "1fadbe53-6254-444d-a2a0-b9258a589279"
      },
      "source": [
        "# Create dataframe to match \"vine_table\" table\n",
        "vine_df = clean_kitchen_df.select([\"review_id\", \"star_rating\", \"helpful_votes\",\"total_votes\", \"vine\"])\n",
        "vine_df.show()"
      ],
      "execution_count": 16,
      "outputs": [
        {
          "output_type": "stream",
          "text": [
            "+--------------+-----------+-------------+-----------+----+\n",
            "|     review_id|star_rating|helpful_votes|total_votes|vine|\n",
            "+--------------+-----------+-------------+-----------+----+\n",
            "|R1002B10PD9ZFM|          5|            0|          0|   N|\n",
            "|R1007DQP1BG5WJ|          5|            0|          0|   N|\n",
            "|R100AIJ0ZFN8CZ|          4|            3|          3|   N|\n",
            "|R100C48B994FWD|          5|            0|          0|   N|\n",
            "|R100E300CKVFYD|          1|            3|          3|   N|\n",
            "|R100GBKBV767AA|          5|            0|          0|   N|\n",
            "|R100I1XICZFNHD|          1|            1|          1|   N|\n",
            "|R100KXBN0DJ74A|          1|            4|          6|   N|\n",
            "|R100VC4OCYFFWM|          5|            0|          0|   N|\n",
            "|R100YFR4KUB3GC|          1|            0|          1|   N|\n",
            "|R1011FF2WI90BO|          5|            9|         10|   N|\n",
            "|R101KSJLZDFCG2|          4|            0|          1|   N|\n",
            "|R101VMZSKC6RM7|          3|            8|          8|   N|\n",
            "|R101W7KWZ60CSV|          5|            1|          1|   N|\n",
            "|R101XEDA8YNN9Y|          5|            0|          0|   N|\n",
            "|R102E0FGPYYEG7|          5|            0|          0|   N|\n",
            "|R102ELXWY70O2E|          4|            0|          0|   N|\n",
            "|R102G47PI11DAZ|          5|            1|          1|   N|\n",
            "|R1047FS7ZQLQ18|          5|            0|          0|   N|\n",
            "|R104DALNSFY9UD|          5|            0|          0|   N|\n",
            "+--------------+-----------+-------------+-----------+----+\n",
            "only showing top 20 rows\n",
            "\n"
          ],
          "name": "stdout"
        }
      ]
    },
    {
      "cell_type": "code",
      "metadata": {
        "id": "a0ey2E_B7A6h",
        "colab_type": "code",
        "colab": {
          "base_uri": "https://localhost:8080/",
          "height": 34
        },
        "outputId": "e1686ed4-6fac-4e0b-cae4-4cfe42f449c1"
      },
      "source": [
        "vine_df.count()"
      ],
      "execution_count": 45,
      "outputs": [
        {
          "output_type": "execute_result",
          "data": {
            "text/plain": [
              "4880466"
            ]
          },
          "metadata": {
            "tags": []
          },
          "execution_count": 45
        }
      ]
    },
    {
      "cell_type": "code",
      "metadata": {
        "id": "HWNGUSO-Ihq4",
        "colab_type": "code",
        "colab": {}
      },
      "source": [
        "# Configure settings for RDS\n",
        "mode = \"append\"\n",
        "jdbc_url=\"jdbc:postgresql://dataviz.ct0o6q0pbonx.us-east-2.rds.amazonaws.com:5432/kitchen_reviews_aws\"\n",
        "config = {\"user\":\"postgres\", \n",
        "          \"password\": \"Peop1eS0ft\", \n",
        "          \"driver\":\"org.postgresql.Driver\"}"
      ],
      "execution_count": 17,
      "outputs": []
    },
    {
      "cell_type": "code",
      "metadata": {
        "id": "e-hwlTkcIk7I",
        "colab_type": "code",
        "colab": {}
      },
      "source": [
        "# Append DataFrame to review_id_table table in RDS\n",
        "\n",
        "clean_review_df.write.jdbc(url=jdbc_url, table='review_id_table', mode=mode, properties=config)"
      ],
      "execution_count": 76,
      "outputs": []
    },
    {
      "cell_type": "code",
      "metadata": {
        "id": "a8ErcfX8Im2x",
        "colab_type": "code",
        "colab": {}
      },
      "source": [
        "# Write dataframe to products table in RDS\n",
        "\n",
        "clean_products_df.write.jdbc(url=jdbc_url, table='products', mode=mode, properties=config)"
      ],
      "execution_count": 77,
      "outputs": []
    },
    {
      "cell_type": "code",
      "metadata": {
        "id": "MN8GtAm6IooY",
        "colab_type": "code",
        "colab": {}
      },
      "source": [
        "# Write dataframe to customers table in RDS\n",
        "\n",
        "customers_df.write.jdbc(url=jdbc_url, table='customers', mode=mode, properties=config)"
      ],
      "execution_count": 19,
      "outputs": []
    },
    {
      "cell_type": "code",
      "metadata": {
        "colab_type": "code",
        "id": "Do2BQA5fOdoa",
        "colab": {}
      },
      "source": [
        "# Write dataframe to vine_table table in RDS\n",
        "\n",
        "vine_df.write.jdbc(url=jdbc_url, table='vine_table', mode=mode, properties=config)"
      ],
      "execution_count": 20,
      "outputs": []
    }
  ]
}